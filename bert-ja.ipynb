{
 "cells": [
  {
   "cell_type": "code",
   "execution_count": 20,
   "metadata": {},
   "outputs": [],
   "source": [
    "import os\n",
    "import re\n",
    "import csv\n",
    "import time\n",
    "import numpy as np\n",
    "import pandas as pd\n",
    "import torch\n",
    "from transformers import BertJapaneseTokenizer, BertModel"
   ]
  },
  {
   "cell_type": "code",
   "execution_count": 49,
   "metadata": {},
   "outputs": [
    {
     "name": "stderr",
     "output_type": "stream",
     "text": [
      "Some weights of the model checkpoint at cl-tohoku/bert-base-japanese-v2 were not used when initializing BertModel: ['cls.seq_relationship.bias', 'cls.predictions.decoder.weight', 'cls.predictions.decoder.bias', 'cls.predictions.transform.LayerNorm.bias', 'cls.predictions.bias', 'cls.predictions.transform.LayerNorm.weight', 'cls.seq_relationship.weight', 'cls.predictions.transform.dense.bias', 'cls.predictions.transform.dense.weight']\n",
      "- This IS expected if you are initializing BertModel from the checkpoint of a model trained on another task or with another architecture (e.g. initializing a BertForSequenceClassification model from a BertForPreTraining model).\n",
      "- This IS NOT expected if you are initializing BertModel from the checkpoint of a model that you expect to be exactly identical (initializing a BertForSequenceClassification model from a BertForSequenceClassification model).\n"
     ]
    },
    {
     "data": {
      "text/plain": [
       "[['とっても冷えてそうです。喉が渇いてきました。', 'クリアな気分になりました。', '松本さんが楽しそうです。こちらも楽しくなってきました。'],\n",
       " ['目が回らないのでしょうか。', 'どうやらレンタカーの会社らしいです。', '社長がとっても楽しそう。開店開店…'],\n",
       " [' 膝をあんなに回してどうしたのでしょうか？', '比較的お年を召した方が多く出演しているらしいです。', '何かサプリメントのご紹介のようですね。']]"
      ]
     },
     "execution_count": 49,
     "metadata": {},
     "output_type": "execute_result"
    }
   ],
   "source": [
    "pretrained_model = \"cl-tohoku/bert-base-japanese-v2\"\n",
    "pretrained_version = \"v2\"\n",
    "file_path = \"annotation.csv\"\n",
    "\n",
    "tokenizer = BertJapaneseTokenizer.from_pretrained(pretrained_model)\n",
    "model = BertModel.from_pretrained(\n",
    "    pretrained_model, # 日本語Pre trainedモデルの指定\n",
    "    output_attentions = False, # アテンションベクトルを出力するか\n",
    "    output_hidden_states = True, # 隠れ層を出力するか\n",
    ")\n",
    "\n",
    "# 文章を取得\n",
    "with open(file_path, \"r\", encoding=\"utf-8-sig\") as f:\n",
    "    reader = csv.reader(f)\n",
    "    scene_descs_tab = [row for row in reader]\n",
    "scene_descs_tab"
   ]
  },
  {
   "cell_type": "code",
   "execution_count": 50,
   "metadata": {},
   "outputs": [
    {
     "name": "stdout",
     "output_type": "stream",
     "text": [
      "...(13, 3, 768)\n",
      "time: 0.2912912368774414\n"
     ]
    }
   ],
   "source": [
    "start_time = time.time()\n",
    "embed_tab = []\n",
    "\n",
    "for scene_descs in scene_descs_tab:\n",
    "    print(\".\", end=\"\")\n",
    "    \n",
    "    scene_embed = []\n",
    "    for scene_desc in scene_descs:\n",
    "        if scene_desc == \"\":\n",
    "            continue\n",
    "#         print(scene_desc)\n",
    "        splitted_texts = re.findall(\"[^。]+。?\", scene_desc)\n",
    "        \n",
    "        scene_subj_embed = []\n",
    "        for one_text in splitted_texts:\n",
    "            tokens = np.array(tokenizer.encode(one_text))\n",
    "            tokens_tensor = torch.tensor([tokens.tolist()])\n",
    "            \n",
    "            model.eval()\n",
    "            with torch.no_grad(): # 勾配計算なし\n",
    "                all_encoder_layers = model(tokens_tensor)[\"hidden_states\"]\n",
    "\n",
    "            one_text_embeds = []\n",
    "            for one_layer in all_encoder_layers:\n",
    "                # 下記2つ目の0は単語のインデックスすなわち[CLS]トークンに対応する埋め込みを取得\n",
    "                one_text_embeds.append(one_layer[0][0].numpy())\n",
    "            \n",
    "            scene_subj_embed.append(one_text_embeds)\n",
    "        \n",
    "        scene_subj_embed = np.array(scene_subj_embed).mean(axis=0)\n",
    "        scene_embed.append(scene_subj_embed)\n",
    "        \n",
    "\n",
    "    scene_embed = np.array(scene_embed).mean(axis=0)\n",
    "    embed_tab.append(scene_embed)\n",
    "    \n",
    "embed_tab = np.array(embed_tab)\n",
    "embed_tab = embed_tab.transpose(1, 0, 2)\n",
    "print(embed_tab.shape)\n",
    "\n",
    "end_time = time.time()\n",
    "print(\"time:\", end_time-start_time)"
   ]
  },
  {
   "cell_type": "code",
   "execution_count": 58,
   "metadata": {},
   "outputs": [
    {
     "name": "stdout",
     "output_type": "stream",
     "text": [
      "finished\n"
     ]
    }
   ],
   "source": [
    "# 各層の畳み込みをHDF5保存\n",
    "for i, one_layer_embed in enumerate(embed_tab): \n",
    "    stim = (one_layer_embed - normmeans) / normstds\n",
    "    with open(f\"embed_layer{i+1:02}.csv\", 'w') as wf:\n",
    "        writer = csv.writer(wf)\n",
    "        writer.writerow(range(1, 769))\n",
    "        for row in one_layer_embed:\n",
    "            writer.writerow(row)\n",
    "\n",
    "print(\"finished\")"
   ]
  },
  {
   "cell_type": "code",
   "execution_count": 59,
   "metadata": {},
   "outputs": [
    {
     "data": {
      "text/plain": [
       "array([['1', '2', '3', ..., '766', '767', '768'],\n",
       "       ['0.241623', '-0.38691887', '0.3015562', ..., '-0.18987507',\n",
       "        '0.3637279', '0.17413235'],\n",
       "       ['0.241623', '-0.38691887', '0.3015562', ..., '-0.18987507',\n",
       "        '0.3637279', '0.17413235'],\n",
       "       ['0.241623', '-0.38691887', '0.3015562', ..., '-0.18987507',\n",
       "        '0.3637279', '0.17413235']], dtype='<U13')"
      ]
     },
     "execution_count": 59,
     "metadata": {},
     "output_type": "execute_result"
    }
   ],
   "source": [
    "# ファイルの確認\n",
    "with open(\"embed_layer01.csv\", \"r\", encoding=\"utf-8-sig\") as f:\n",
    "    reader = csv.reader(f)\n",
    "    scene_descs_tab = [row for row in reader]\n",
    "np.array(scene_descs_tab)"
   ]
  },
  {
   "cell_type": "code",
   "execution_count": null,
   "metadata": {},
   "outputs": [],
   "source": []
  }
 ],
 "metadata": {
  "kernelspec": {
   "display_name": "Python 3",
   "language": "python",
   "name": "python3"
  },
  "language_info": {
   "codemirror_mode": {
    "name": "ipython",
    "version": 3
   },
   "file_extension": ".py",
   "mimetype": "text/x-python",
   "name": "python",
   "nbconvert_exporter": "python",
   "pygments_lexer": "ipython3",
   "version": "3.8.5"
  }
 },
 "nbformat": 4,
 "nbformat_minor": 4
}
